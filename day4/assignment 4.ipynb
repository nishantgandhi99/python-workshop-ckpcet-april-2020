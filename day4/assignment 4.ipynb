{
 "cells": [
  {
   "cell_type": "markdown",
   "metadata": {},
   "source": [
    "## Capstone Project Phase 1:"
   ]
  },
  {
   "cell_type": "markdown",
   "metadata": {},
   "source": [
    "### Assignment 1: Build the team & other logistics \\[3 Points\\]\n",
    "\n",
    "1. Find members, make team.\n",
    "2. Select team lead and create one github repository per team for project.\n",
    "3. Create Readme.MD file and put name of your teammates. Submit the repository link."
   ]
  },
  {
   "cell_type": "markdown",
   "metadata": {},
   "source": [
    "### Assignment 2: Pick Problem Statement & Dataset \\[5 Points\\]\n",
    "\n",
    "1. Define your problem statement. (tentative, can be changed in future)\n",
    "2. Find the dataset for your project.\n",
    "3. Add details of problem statement & dataset link to your github readme file."
   ]
  },
  {
   "cell_type": "markdown",
   "metadata": {},
   "source": [
    "## Python Pandas Assignment:"
   ]
  },
  {
   "cell_type": "code",
   "execution_count": null,
   "metadata": {},
   "outputs": [],
   "source": [
    "# Problem: Create dataframe with custom row index & column name. The dimension should be 10x4. \n",
    "#    Custom Index should start from 101 to 110. column name should be `a` to `d`. \n",
    "#    `a` should be strings, `b` should be numbers, `c` & 'd' should be float.\n",
    "#     fill up random values using numpy.random.  [4 Points]\n",
    "import pandas as pd\n",
    "import numpy as np\n",
    "\n",
    "df = pd.DataFrame({\n",
    "    'a': np.random.choice(['One', 'Two', 'Three'], 10),\n",
    "    # TODO: Implement rest 3 columns \n",
    "}, \n",
    "df"
   ]
  },
  {
   "cell_type": "code",
   "execution_count": null,
   "metadata": {},
   "outputs": [],
   "source": [
    "# Problem: Use the original dataframe to create another dataframe that has rows from index 103 to 108. [1 Points]"
   ]
  },
  {
   "cell_type": "code",
   "execution_count": null,
   "metadata": {},
   "outputs": [],
   "source": [
    "# Problem: Use the original dataframe to create another dataframe that does not have first and last row [1 Points]"
   ]
  },
  {
   "cell_type": "code",
   "execution_count": null,
   "metadata": {},
   "outputs": [],
   "source": [
    "# Problem: Group and print orignal dataframe by column `a`"
   ]
  },
  {
   "cell_type": "code",
   "execution_count": null,
   "metadata": {},
   "outputs": [],
   "source": [
    "# Problem: Use the orginal dataframe and drop first and last column [1 Points]"
   ]
  }
 ],
 "metadata": {
  "kernelspec": {
   "display_name": "Python 3",
   "language": "python",
   "name": "python3"
  },
  "language_info": {
   "codemirror_mode": {
    "name": "ipython",
    "version": 3
   },
   "file_extension": ".py",
   "mimetype": "text/x-python",
   "name": "python",
   "nbconvert_exporter": "python",
   "pygments_lexer": "ipython3",
   "version": "3.6.9"
  }
 },
 "nbformat": 4,
 "nbformat_minor": 4
}
